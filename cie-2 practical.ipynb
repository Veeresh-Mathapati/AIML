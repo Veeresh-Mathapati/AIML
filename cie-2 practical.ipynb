{
  "nbformat": 4,
  "nbformat_minor": 0,
  "metadata": {
    "colab": {
      "provenance": [],
      "authorship_tag": "ABX9TyM+QpLw5gFqF/z2IH/G3rUb",
      "include_colab_link": true
    },
    "kernelspec": {
      "name": "python3",
      "display_name": "Python 3"
    },
    "language_info": {
      "name": "python"
    }
  },
  "cells": [
    {
      "cell_type": "markdown",
      "metadata": {
        "id": "view-in-github",
        "colab_type": "text"
      },
      "source": [
        "<a href=\"https://colab.research.google.com/github/Veeresh-Mathapati/AIML/blob/main/cie-2%20practical.ipynb\" target=\"_parent\"><img src=\"https://colab.research.google.com/assets/colab-badge.svg\" alt=\"Open In Colab\"/></a>"
      ]
    },
    {
      "cell_type": "code",
      "execution_count": 8,
      "metadata": {
        "colab": {
          "base_uri": "https://localhost:8080/",
          "height": 472
        },
        "id": "NchcYcYVFKtt",
        "outputId": "f52fcd56-816b-40f6-9492-eeeb6f5ce55c"
      },
      "outputs": [
        {
          "output_type": "display_data",
          "data": {
            "text/plain": [
              "<Figure size 640x480 with 1 Axes>"
            ],
            "image/png": "[encoded data removed]"
          },
          "metadata": {}
        }
      ],
      "source": [
        "import pandas as pd\n",
        "import numpy as np\n",
        "import matplotlib.pyplot as plt\n",
        "import seaborn as sns\n",
        "\n",
        "df=sns.load_dataset(\"titanic\")\n",
        "\n",
        "sns.countplot(x=\"pclass\",hue=\"survived\",data=df)\n",
        "plt.xlabel(\"passenger class\")\n",
        "plt.ylabel(\"count\")\n",
        "plt.title(\"count of pclass\")\n",
        "plt.show()"
      ]
    },
    {
      "cell_type": "code",
      "source": [
        "print(df.info())\n",
        "print(df[\"survived\"].describe())\n",
        "print(df[\"age\"].describe())\n",
        "print(df.head(10))"
      ],
      "metadata": {
        "colab": {
          "base_uri": "https://localhost:8080/"
        },
        "id": "bUR3UdaaFPqh",
        "outputId": "b39f29c6-6390-4b65-8dfb-bba09faeb23f"
      },
      "execution_count": 2,
      "outputs": [
        {
          "output_type": "stream",
          "name": "stdout",
          "text": [
            "<class 'pandas.core.frame.DataFrame'>\n",
            "RangeIndex: 891 entries, 0 to 890\n",
            "Data columns (total 15 columns):\n",
            " #   Column       Non-Null Count  Dtype   \n",
            "---  ------       --------------  -----   \n",
            " 0   survived     891 non-null    int64   \n",
            " 1   pclass       891 non-null    int64   \n",
            " 2   sex          891 non-null    object  \n",
            " 3   age          714 non-null    float64 \n",
            " 4   sibsp        891 non-null    int64   \n",
            " 5   parch        891 non-null    int64   \n",
            " 6   fare         891 non-null    float64 \n",
            " 7   embarked     889 non-null    object  \n",
            " 8   class        891 non-null    category\n",
            " 9   who          891 non-null    object  \n",
            " 10  adult_male   891 non-null    bool    \n",
            " 11  deck         203 non-null    category\n",
            " 12  embark_town  889 non-null    object  \n",
            " 13  alive        891 non-null    object  \n",
            " 14  alone        891 non-null    bool    \n",
            "dtypes: bool(2), category(2), float64(2), int64(4), object(5)\n",
            "memory usage: 80.7+ KB\n",
            "None\n",
            "count    891.000000\n",
            "mean       0.383838\n",
            "std        0.486592\n",
            "min        0.000000\n",
            "25%        0.000000\n",
            "50%        0.000000\n",
            "75%        1.000000\n",
            "max        1.000000\n",
            "Name: survived, dtype: float64\n",
            "count    714.000000\n",
            "mean      29.699118\n",
            "std       14.526497\n",
            "min        0.420000\n",
            "25%       20.125000\n",
            "50%       28.000000\n",
            "75%       38.000000\n",
            "max       80.000000\n",
            "Name: age, dtype: float64\n",
            "   survived  pclass     sex   age  sibsp  parch     fare embarked   class  \\\n",
            "0         0       3    male  22.0      1      0   7.2500        S   Third   \n",
            "1         1       1  female  38.0      1      0  71.2833        C   First   \n",
            "2         1       3  female  26.0      0      0   7.9250        S   Third   \n",
            "3         1       1  female  35.0      1      0  53.1000        S   First   \n",
            "4         0       3    male  35.0      0      0   8.0500        S   Third   \n",
            "5         0       3    male   NaN      0      0   8.4583        Q   Third   \n",
            "6         0       1    male  54.0      0      0  51.8625        S   First   \n",
            "7         0       3    male   2.0      3      1  21.0750        S   Third   \n",
            "8         1       3  female  27.0      0      2  11.1333        S   Third   \n",
            "9         1       2  female  14.0      1      0  30.0708        C  Second   \n",
            "\n",
            "     who  adult_male deck  embark_town alive  alone  \n",
            "0    man        True  NaN  Southampton    no  False  \n",
            "1  woman       False    C    Cherbourg   yes  False  \n",
            "2  woman       False  NaN  Southampton   yes   True  \n",
            "3  woman       False    C  Southampton   yes  False  \n",
            "4    man        True  NaN  Southampton    no   True  \n",
            "5    man        True  NaN   Queenstown    no   True  \n",
            "6    man        True    E  Southampton    no   True  \n",
            "7  child       False  NaN  Southampton    no  False  \n",
            "8  woman       False  NaN  Southampton   yes  False  \n",
            "9  child       False  NaN    Cherbourg   yes  False  \n"
          ]
        }
      ]
    },
    {
      "cell_type": "code",
      "source": [
        "print(df.isnull().sum())\n",
        "df[\"age\"]=df[\"age\"].fillna(df[\"age\"].mean())\n",
        "print(df.isnull().sum())"
      ],
      "metadata": {
        "colab": {
          "base_uri": "https://localhost:8080/"
        },
        "id": "J-Lp6ru7FTDg",
        "outputId": "b8fee504-88c5-426c-d9f4-240fec2cf430"
      },
      "execution_count": 3,
      "outputs": [
        {
          "output_type": "stream",
          "name": "stdout",
          "text": [
            "survived         0\n",
            "pclass           0\n",
            "sex              0\n",
            "age            177\n",
            "sibsp            0\n",
            "parch            0\n",
            "fare             0\n",
            "embarked         2\n",
            "class            0\n",
            "who              0\n",
            "adult_male       0\n",
            "deck           688\n",
            "embark_town      2\n",
            "alive            0\n",
            "alone            0\n",
            "dtype: int64\n",
            "survived         0\n",
            "pclass           0\n",
            "sex              0\n",
            "age              0\n",
            "sibsp            0\n",
            "parch            0\n",
            "fare             0\n",
            "embarked         2\n",
            "class            0\n",
            "who              0\n",
            "adult_male       0\n",
            "deck           688\n",
            "embark_town      2\n",
            "alive            0\n",
            "alone            0\n",
            "dtype: int64\n"
          ]
        }
      ]
    }
  ]
}